{
 "cells": [
  {
   "cell_type": "code",
   "execution_count": 1019,
   "metadata": {
    "colab": {},
    "colab_type": "code",
    "id": "y5n2_xaX03sM"
   },
   "outputs": [],
   "source": [
    "import torch\n",
    "import torchvision.models as models\n",
    "import torch.nn as nn\n",
    "import torchvision\n",
    "import matplotlib.pyplot as plt\n",
    "from torch.autograd import Variable\n",
    "from torchvision import datasets, transforms\n",
    "from torch.nn import  functional as F\n",
    "import numpy as np\n"
   ]
  },
  {
   "cell_type": "code",
   "execution_count": 1020,
   "metadata": {
    "colab": {},
    "colab_type": "code",
    "id": "_76QyhxJzufw"
   },
   "outputs": [],
   "source": [
    "preprocess = transforms.Compose([\n",
    "    transforms.Resize(256),\n",
    "    transforms.CenterCrop(224),\n",
    "    transforms.ToTensor(),\n",
    "    transforms.Normalize(mean = (0.485, 0.456, 0.406), std=(0.229, 0.224, 0.223))\n",
    "])"
   ]
  },
  {
   "cell_type": "code",
   "execution_count": 1021,
   "metadata": {
    "colab": {},
    "colab_type": "code",
    "id": "Bb2be5omkkqg"
   },
   "outputs": [],
   "source": [
    "epsilons = [.05, .1, .15, .2, .25, .3]\n",
    "alexnet = models.alexnet(pretrained = True)"
   ]
  },
  {
   "cell_type": "code",
   "execution_count": 1022,
   "metadata": {
    "colab": {},
    "colab_type": "code",
    "id": "QqxL10HDwF5g"
   },
   "outputs": [],
   "source": [
    "D = torchvision.datasets.ImageFolder('/Users/pawel/Desktop/panda',transform = preprocess)\n",
    "data = torch.utils.data.DataLoader(D)\n"
   ]
  },
  {
   "cell_type": "code",
   "execution_count": 1023,
   "metadata": {
    "colab": {},
    "colab_type": "code",
    "id": "Ri6Uq-J6xAgE"
   },
   "outputs": [],
   "source": [
    "def attack(img,eps, data_gradient):\n",
    "    data_gradient_sign = data_gradient.sign()\n",
    "    new_img = img + data_gradient_sign*eps\n",
    "    new_img = torch.clamp(new_img, 0, 1)\n",
    "    return new_img, data_gradient*eps"
   ]
  },
  {
   "cell_type": "code",
   "execution_count": 1024,
   "metadata": {
    "colab": {},
    "colab_type": "code",
    "id": "6XS4FRTee6DB"
   },
   "outputs": [],
   "source": [
    "def test(model, eps, data):\n",
    "    pandas = []\n",
    "    distorted_pandas = []\n",
    "    attack_maps = []\n",
    "    for panda in data:\n",
    "        panda = panda[0]\n",
    "        pandas.append(panda)\n",
    "        panda.requires_grad = True\n",
    "        output = model(panda)\n",
    "        init_pred = torch.max(output,dim=1)\n",
    "        if 388!=init_pred[1]:\n",
    "            print(\"sad\")\n",
    "            distorted_pandas.append(0)\n",
    "            attack_maps.append(0)\n",
    "            continue\n",
    "\n",
    "        desired_output = torch.zeros(1000)\n",
    "\n",
    "        desired_output[388]=1\n",
    "\n",
    "        loss = F.mse_loss(output[0],desired_output)\n",
    "\n",
    "        model.zero_grad()\n",
    "\n",
    "        loss.backward()\n",
    "        \n",
    "        panda_grad = panda.grad.data\n",
    "        distorted_panda, attack_map = attack(panda,eps,panda_grad)\n",
    "        output = torch.max(model(distorted_panda),dim=1)\n",
    "        #print(output[1][0])\n",
    "        if output[1] == 388:\n",
    "            print(\"well, it failed\")\n",
    "            distorted_pandas.append(0)\n",
    "            attack_maps.append(0)\n",
    "            continue\n",
    "        print(\"succes\")\n",
    "        distorted_pandas.append(distorted_panda)\n",
    "        attack_maps.append(attack_map)\n",
    "    return pandas, distorted_pandas, attack_maps"
   ]
  },
  {
   "cell_type": "code",
   "execution_count": null,
   "metadata": {
    "colab": {
     "base_uri": "https://localhost:8080/",
     "height": 1000
    },
    "colab_type": "code",
    "id": "yYbB-3mqf5hh",
    "outputId": "85a49460-6f7d-4b08-b68c-448c74f16314"
   },
   "outputs": [
    {
     "name": "stdout",
     "output_type": "stream",
     "text": [
      "succes\n",
      "succes\n",
      "succes\n",
      "succes\n",
      "succes\n",
      "succes\n",
      "succes\n",
      "succes\n",
      "succes\n",
      "succes\n",
      "succes\n",
      "succes\n",
      "succes\n",
      "succes\n",
      "succes\n",
      "succes\n",
      "succes\n",
      "succes\n",
      "succes\n",
      "succes\n",
      "sad\n",
      "succes\n",
      "succes\n",
      "succes\n",
      "succes\n",
      "succes\n",
      "succes\n",
      "succes\n",
      "succes\n",
      "succes\n",
      "succes\n",
      "succes\n",
      "succes\n",
      "succes\n",
      "succes\n",
      "succes\n",
      "succes\n",
      "succes\n",
      "succes\n",
      "succes\n",
      "sad\n",
      "succes\n",
      "succes\n",
      "succes\n",
      "succes\n",
      "succes\n",
      "succes\n",
      "sad\n",
      "succes\n",
      "succes\n",
      "succes\n",
      "succes\n",
      "succes\n",
      "succes\n",
      "succes\n",
      "succes\n"
     ]
    }
   ],
   "source": [
    "pandas_zoo = []\n",
    "distorted_pandas_zoo = []\n",
    "attack_maps_zoo = []\n",
    "for eps in epsilons:\n",
    "    pandas,distorted_pandas, attack_maps = test(alexnet, eps, data)\n",
    "    pandas_zoo.append(pandas)\n",
    "    distorted_pandas_zoo.append(distorted_pandas)\n",
    "    attack_maps_zoo.append(attack_maps)"
   ]
  },
  {
   "cell_type": "code",
   "execution_count": null,
   "metadata": {},
   "outputs": [],
   "source": [
    "#plt.imshow(torchvision.utils.make_grid( pandas_zoo[0][0].squeeze(), nrow=5).permute(1, 2, 0))"
   ]
  },
  {
   "cell_type": "code",
   "execution_count": null,
   "metadata": {},
   "outputs": [],
   "source": [
    "plt.imshow(pandas_zoo[0][0][0].detach().permute(1,2,0).clamp(0,1))"
   ]
  },
  {
   "cell_type": "code",
   "execution_count": null,
   "metadata": {},
   "outputs": [],
   "source": [
    "plt.imshow(distorted_pandas_zoo[0][0][0].detach().permute(1,2,0))"
   ]
  },
  {
   "cell_type": "code",
   "execution_count": null,
   "metadata": {},
   "outputs": [],
   "source": [
    "plt.imshow(((attack_maps_zoo[0][0][0].permute(1,2,0))*80).clamp(0,1))"
   ]
  },
  {
   "cell_type": "code",
   "execution_count": null,
   "metadata": {
    "colab": {},
    "colab_type": "code",
    "id": "TqsE657vf8cg"
   },
   "outputs": [],
   "source": [
    "plt.figure(figsize=(5,5))\n",
    "plt.plot(epsilons, accuracies, \"*-\")\n",
    "plt.yticks(np.arange(0, 1.1, step=0.1))\n",
    "plt.xticks(np.arange(0, .35, step=0.05))\n",
    "plt.title(\"Accuracy vs Epsilon\")\n",
    "plt.xlabel(\"Epsilon\")\n",
    "plt.ylabel(\"Accuracy\")\n",
    "plt.show()"
   ]
  },
  {
   "cell_type": "code",
   "execution_count": null,
   "metadata": {
    "colab": {},
    "colab_type": "code",
    "id": "9Nk_DTFXgAUG"
   },
   "outputs": [],
   "source": [
    "image = transforms.ToPILImage()(distorted_pandas_zoo[0][0][0])\n",
    "\n",
    "image.save('panda_dis.jpg')"
   ]
  },
  {
   "cell_type": "code",
   "execution_count": null,
   "metadata": {},
   "outputs": [],
   "source": [
    "panda = Image.open('panda_dis.jpg')"
   ]
  },
  {
   "cell_type": "code",
   "execution_count": null,
   "metadata": {},
   "outputs": [],
   "source": [
    "tr = transforms.ToTensor()"
   ]
  },
  {
   "cell_type": "code",
   "execution_count": null,
   "metadata": {},
   "outputs": [],
   "source": [
    "tr(panda)"
   ]
  },
  {
   "cell_type": "code",
   "execution_count": null,
   "metadata": {},
   "outputs": [],
   "source": [
    "torch.max(alexnet(tr(panda).view(1,3,224,224)),dim=1)"
   ]
  },
  {
   "cell_type": "code",
   "execution_count": null,
   "metadata": {},
   "outputs": [],
   "source": []
  },
  {
   "cell_type": "code",
   "execution_count": null,
   "metadata": {},
   "outputs": [],
   "source": []
  },
  {
   "cell_type": "code",
   "execution_count": null,
   "metadata": {},
   "outputs": [],
   "source": []
  },
  {
   "cell_type": "code",
   "execution_count": null,
   "metadata": {},
   "outputs": [],
   "source": []
  },
  {
   "cell_type": "code",
   "execution_count": null,
   "metadata": {},
   "outputs": [],
   "source": []
  },
  {
   "cell_type": "code",
   "execution_count": null,
   "metadata": {},
   "outputs": [],
   "source": []
  },
  {
   "cell_type": "code",
   "execution_count": null,
   "metadata": {},
   "outputs": [],
   "source": []
  },
  {
   "cell_type": "code",
   "execution_count": null,
   "metadata": {},
   "outputs": [],
   "source": []
  },
  {
   "cell_type": "code",
   "execution_count": null,
   "metadata": {},
   "outputs": [],
   "source": []
  },
  {
   "cell_type": "code",
   "execution_count": null,
   "metadata": {},
   "outputs": [],
   "source": []
  },
  {
   "cell_type": "code",
   "execution_count": null,
   "metadata": {},
   "outputs": [],
   "source": []
  },
  {
   "cell_type": "code",
   "execution_count": null,
   "metadata": {},
   "outputs": [],
   "source": []
  },
  {
   "cell_type": "code",
   "execution_count": null,
   "metadata": {},
   "outputs": [],
   "source": []
  },
  {
   "cell_type": "code",
   "execution_count": null,
   "metadata": {},
   "outputs": [],
   "source": []
  },
  {
   "cell_type": "code",
   "execution_count": null,
   "metadata": {},
   "outputs": [],
   "source": []
  },
  {
   "cell_type": "code",
   "execution_count": null,
   "metadata": {},
   "outputs": [],
   "source": []
  },
  {
   "cell_type": "code",
   "execution_count": null,
   "metadata": {},
   "outputs": [],
   "source": []
  },
  {
   "cell_type": "code",
   "execution_count": null,
   "metadata": {},
   "outputs": [],
   "source": []
  },
  {
   "cell_type": "code",
   "execution_count": null,
   "metadata": {},
   "outputs": [],
   "source": []
  },
  {
   "cell_type": "code",
   "execution_count": null,
   "metadata": {},
   "outputs": [],
   "source": []
  },
  {
   "cell_type": "code",
   "execution_count": null,
   "metadata": {},
   "outputs": [],
   "source": []
  }
 ],
 "metadata": {
  "accelerator": "GPU",
  "colab": {
   "collapsed_sections": [],
   "name": "Highway.ipynb",
   "provenance": [],
   "toc_visible": true
  },
  "kernelspec": {
   "display_name": "Python 3",
   "language": "python",
   "name": "python3"
  },
  "language_info": {
   "codemirror_mode": {
    "name": "ipython",
    "version": 3
   },
   "file_extension": ".py",
   "mimetype": "text/x-python",
   "name": "python",
   "nbconvert_exporter": "python",
   "pygments_lexer": "ipython3",
   "version": "3.7.6"
  }
 },
 "nbformat": 4,
 "nbformat_minor": 1
}
